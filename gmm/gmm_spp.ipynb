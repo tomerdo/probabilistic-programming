{
 "cells": [
  {
   "cell_type": "code",
   "execution_count": 2,
   "metadata": {},
   "outputs": [],
   "source": [
    "import pystan\n",
    "import arviz\n",
    "import random\n",
    "import pandas as pd\n",
    "import math"
   ]
  },
  {
   "cell_type": "code",
   "execution_count": 8,
   "metadata": {},
   "outputs": [],
   "source": [
    "model = \"\"\"\n",
    "data {\n",
    " int<lower = 0> N;\n",
    " real y[N];\n",
    "}\n",
    "\n",
    "parameters {\n",
    "  vector[2] mu;\n",
    "  real<lower=0> sigma[2];\n",
    "}\n",
    "\n",
    "model {\n",
    " mu ~ normal(0, 10);\n",
    " sigma ~ lognormal(0, 10);\n",
    " for (n in 1:N)\n",
    "   target += log_mix(0.5,\n",
    "                     normal_lpdf(y[n] | mu[1], sigma[1]),\n",
    "                     normal_lpdf(y[n] | mu[2], sigma[2]));\n",
    "}\n",
    "\"\"\""
   ]
  },
  {
   "cell_type": "code",
   "execution_count": 9,
   "metadata": {},
   "outputs": [
    {
     "name": "stderr",
     "output_type": "stream",
     "text": [
      "INFO:pystan:COMPILING THE C++ CODE FOR MODEL anon_model_1019bdc5a953977d661c132666b8e89e NOW.\n"
     ]
    }
   ],
   "source": [
    "gmm = pystan.StanModel(model_code=model)"
   ]
  },
  {
   "cell_type": "code",
   "execution_count": 14,
   "metadata": {},
   "outputs": [],
   "source": [
    "data = {'N':100, 'y': [\n",
    "   -1.60564, -0.738428,  -0.788214,  0.937411,   1.53427,   0.35158,\n",
    "  -0.444381,  -1.09564,   -1.07968,   1.13274,  -1.04355,   1.21524,\n",
    "   -1.35582,  -0.74066,   0.528229,   1.25935,  0.721489,  -1.06725,\n",
    "   -1.34502,    0.4119,   -1.97636,  0.752167,  0.486281,  -1.87411,\n",
    "  -0.625002, -0.919676,  -0.894819,  0.802185,  0.860323,  0.975193,\n",
    "  -0.026451,  -1.51903,   0.987756,  -1.72042,  0.634612,   0.82017,\n",
    "   -1.49205,   1.32449,    1.18504, -0.940458,  0.485705, -0.280229,\n",
    "  -0.992136,   1.09174,  -0.423164,  0.718245,  -0.12715,  -1.03373,\n",
    "    1.54556,   1.25899,   -1.28084,  0.292382,    1.2145,  -1.15795,\n",
    "  -0.619497,  0.705425,   -1.03937, -0.818351, -0.182193,   1.12688,\n",
    "   0.958279,  -1.05844,    1.38741,  -1.12127,   1.87585,  -1.21096,\n",
    "  -0.395627,  0.100013,  -0.330039,   1.57763, -0.483199,  -1.29242,\n",
    "    1.22465,  0.704068,    1.22055,  0.549211,  -2.18188,   0.84413,\n",
    "    1.25785,   1.08137,   -1.20413,  -1.73943,  -1.16638,  -1.58065,\n",
    "   0.732626,   1.19044,    1.32647, -0.298011,  0.453978,  -0.84684,\n",
    "    1.31712,  0.296836,   -1.50797, -0.960349,   -1.0115,  -1.09435,\n",
    "  -0.537644,  0.163917, -0.0490216,  -1.13458\n",
    "]}"
   ]
  },
  {
   "cell_type": "code",
   "execution_count": 23,
   "metadata": {},
   "outputs": [
    {
     "name": "stderr",
     "output_type": "stream",
     "text": [
      "WARNING:pystan:Rhat above 1.1 or below 0.9 indicates that the chains very likely have not mixed\n"
     ]
    }
   ],
   "source": [
    "fit = gmm.sampling(data=data, iter=1000, chains=10, control = {\"adapt_delta\" : 0.9})"
   ]
  },
  {
   "cell_type": "code",
   "execution_count": 24,
   "metadata": {},
   "outputs": [
    {
     "name": "stdout",
     "output_type": "stream",
     "text": [
      "Inference for Stan model: anon_model_1019bdc5a953977d661c132666b8e89e.\n",
      "10 chains, each with iter=1000; warmup=500; thin=1; \n",
      "post-warmup draws per chain=500, total post-warmup draws=5000.\n",
      "\n",
      "           mean se_mean     sd   2.5%    25%    50%    75%  97.5%  n_eff   Rhat\n",
      "mu[1]     -0.04    0.42   0.95  -1.13  -0.99  -0.05   0.91   1.04      5  11.28\n",
      "mu[2]     -0.04    0.42   0.95  -1.13  -0.99   0.03   0.91   1.03      5   11.2\n",
      "sigma[1]   0.48    0.02   0.08   0.35   0.43   0.48   0.53   0.65     22   1.15\n",
      "sigma[2]   0.48    0.02   0.08   0.35   0.43   0.48   0.53   0.65     22   1.15\n",
      "lp__     -131.0    0.03   1.49 -134.7 -131.7 -130.7 -129.9 -129.2   2294    1.0\n",
      "\n",
      "Samples were drawn using NUTS at Sat Mar  7 17:32:56 2020.\n",
      "For each parameter, n_eff is a crude measure of effective sample size,\n",
      "and Rhat is the potential scale reduction factor on split chains (at \n",
      "convergence, Rhat=1).\n"
     ]
    }
   ],
   "source": [
    "print(fit)"
   ]
  },
  {
   "cell_type": "code",
   "execution_count": null,
   "metadata": {},
   "outputs": [],
   "source": []
  }
 ],
 "metadata": {
  "kernelspec": {
   "display_name": "Python 3",
   "language": "python",
   "name": "python3"
  },
  "language_info": {
   "codemirror_mode": {
    "name": "ipython",
    "version": 3
   },
   "file_extension": ".py",
   "mimetype": "text/x-python",
   "name": "python",
   "nbconvert_exporter": "python",
   "pygments_lexer": "ipython3",
   "version": "3.7.5"
  }
 },
 "nbformat": 4,
 "nbformat_minor": 2
}
