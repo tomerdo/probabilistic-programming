{
 "cells": [
  {
   "cell_type": "code",
   "execution_count": 2,
   "metadata": {
    "slideshow": {
     "slide_type": "-"
    }
   },
   "outputs": [],
   "source": [
    "import pystan\n",
    "import arviz"
   ]
  },
  {
   "cell_type": "markdown",
   "metadata": {},
   "source": [
    "# this code is implemtetion of idea i found in the web. the source is not found any more"
   ]
  },
  {
   "cell_type": "markdown",
   "metadata": {},
   "source": [
    "the expirment talks about how to make a discrete surevy to infere the number of cheaters, it goes as -> \n",
    "1) toss a coin\n",
    "1.1) if it's head - answer the truth\n",
    "1.2) if it's tail - toss the coin again and anwer the result of the coin\n",
    "\n",
    "in this way if your answer was true, there no way know if it's from the random coin flip , or the actual private information.\n",
    "one that see all the answers can dudce the correct number , because he knows how a coin flip should act."
   ]
  },
  {
   "cell_type": "code",
   "execution_count": null,
   "metadata": {},
   "outputs": [],
   "source": [
    "expirement_model = \"\"\"\"\n",
    "\n",
    "data {\n",
    "    int<lower=0> N; // number of people answered the survey\n",
    "    int<lower=0, upper = 1> answers[N]; // boolean array of answers\n",
    "}\n",
    "\n",
    "parameters {\n",
    "    real<lower=0, upper=1> theta; // the latent variable we want to infer\n",
    "    real<lower=0, upper=1> coin_results[N]; // helper coin results buffer\n",
    "}\n",
    "\n",
    "\n",
    "model {\n",
    "    theta ~ beta(0.5, 0.5); // beta prior\n",
    "    for (i in 1:N){\n",
    "        coin_results[i] ~ normal(0 , 1);\n",
    "        if (coin_result[i] >= 0){\n",
    "            answers[i] ~ bernoully(theta);\n",
    "        }\n",
    "        else{\n",
    "            answers[i] ~ bernoully(0.5);\n",
    "        }\n",
    "    }\n",
    "    \n",
    "}\n",
    "\"\"\"\n"
   ]
  }
 ],
 "metadata": {
  "celltoolbar": "Slideshow",
  "kernelspec": {
   "display_name": "Python 3",
   "language": "python",
   "name": "python3"
  },
  "language_info": {
   "codemirror_mode": {
    "name": "ipython",
    "version": 3
   },
   "file_extension": ".py",
   "mimetype": "text/x-python",
   "name": "python",
   "nbconvert_exporter": "python",
   "pygments_lexer": "ipython3",
   "version": "3.7.5"
  }
 },
 "nbformat": 4,
 "nbformat_minor": 2
}
