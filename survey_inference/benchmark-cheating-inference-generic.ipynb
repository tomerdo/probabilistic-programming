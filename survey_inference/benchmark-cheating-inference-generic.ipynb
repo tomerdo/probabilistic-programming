{
 "cells": [
  {
   "cell_type": "code",
   "execution_count": 19,
   "metadata": {},
   "outputs": [],
   "source": [
    "import pystan\n",
    "import arviz\n",
    "import random\n",
    "import pandas as pd\n",
    "import math"
   ]
  },
  {
   "cell_type": "code",
   "execution_count": 30,
   "metadata": {},
   "outputs": [],
   "source": [
    "# this method simulates the survey of cheaters\n",
    "def do_exprinment(is_cheater):\n",
    "    coin_result = flip_coin()\n",
    "    if (coin_result):\n",
    "        return is_cheater\n",
    "    else:\n",
    "        return flip_coin()\n",
    "\n",
    "# this function simulates a coin flip\n",
    "def flip_coin():\n",
    "    result = False;\n",
    "    rand_value = random.random();\n",
    "    if (rand_value > 0.5):\n",
    "        result = True;\n",
    "    return result\n",
    "\n",
    "# this function simulates num_of_people that answer the survey , with num of cheater as <num_of_cheaters>\n",
    "def compute_result_to_list(num_of_cheaters, num_of_people):\n",
    "    results = []\n",
    "    all_population = range(num_of_people)\n",
    "    cheaters_list = random.sample(all_population , k=num_of_cheaters)\n",
    "    for i in all_population:\n",
    "        result = False\n",
    "        if i in cheaters_list:\n",
    "            result = do_exprinment(True)\n",
    "        else :\n",
    "            result = do_exprinment(False)\n",
    "        if (result):\n",
    "            results.append(1)\n",
    "        else:\n",
    "            results.append(0)\n",
    "            \n",
    "    return results\n",
    "\n",
    "# returns the mean of theta on the results\n",
    "def theta_mean(fit): \n",
    "    summary_dict = fit.summary()\n",
    "    df = pd.DataFrame(summary_dict['summary'], \n",
    "                  columns=summary_dict['summary_colnames'], \n",
    "                  index=summary_dict['summary_rownames'])\n",
    "\n",
    "    return df['mean']['theta']\n",
    "\n",
    "\"\"\"\" \n",
    "this method sampling from the <stan_model> on varity of number_of_cheaters from <num_of_population>\n",
    "and prints the accuracy of the inference\n",
    "\"\"\"\n",
    "def do_benchmark(step_size, num_of_population, stan_model):\n",
    "    num_of_iterations = math.floor(num_of_population / step_size)\n",
    "    for i in range(num_of_iterations):\n",
    "        y = compute_result_to_list(step_size + i * step_size , num_of_population)\n",
    "        exp = {\n",
    "            'N': len(y),\n",
    "            'y': y\n",
    "        }\n",
    "        m_fit = stan_model.sampling(data=exp, iter=1000, chains=4, control = {\"adapt_delta\" : 0.9})\n",
    "        calculated_mean = theta_mean(m_fit)\n",
    "        cheaters_ratio = ((step_size + i * step_size )/ num_of_population)\n",
    "        error = abs(calculated_mean - cheaters_ratio)\n",
    "        print(\"the calculated mean is \" + str(calculated_mean) + \" the cheaters ratio is \" + str(cheaters_ratio)  \n",
    "              + \" size of population is \" + str(num_of_population) \n",
    "             + \" the error is \" + \"{0:.00%}\".format(error) + \"( \" + str(error) + \" )\" )\n",
    "        \n",
    "    "
   ]
  },
  {
   "cell_type": "code",
   "execution_count": 3,
   "metadata": {},
   "outputs": [],
   "source": [
    "generative_model = \"\"\"\n",
    "\n",
    "data {\n",
    "    int<lower=0> N; // number of people answered the survey\n",
    "    int<lower=0, upper = 1> y[N]; // boolean array of answers\n",
    "}\n",
    "\n",
    "parameters {\n",
    "    real<lower=0, upper=1> theta; // the latent variable we want to infer\n",
    "    real<lower=-1, upper=1> coin_results[N]; // helper coin results buffer\n",
    "}\n",
    "\n",
    "\n",
    "model {\n",
    "    theta ~ beta(0.5, 0.5); // beta prior\n",
    "    for (i in 1:N){\n",
    "        coin_results[i] ~ normal(0 , 1);\n",
    "        if (coin_results[i] >= 0){\n",
    "            y[i] ~ bernoulli(theta);\n",
    "        }\n",
    "        else{\n",
    "            y[i] ~ bernoulli(0.5);\n",
    "        }\n",
    "    }\n",
    "    \n",
    "}\n",
    "\"\"\""
   ]
  },
  {
   "cell_type": "code",
   "execution_count": 4,
   "metadata": {},
   "outputs": [],
   "source": [
    "mixture_model = \"\"\"\n",
    "\n",
    "data {\n",
    "    int<lower=0> N; // number of people answered the survey\n",
    "    int<lower=0, upper = 1> y[N]; // boolean array of answers\n",
    "}\n",
    "\n",
    "parameters {\n",
    "    real<lower=0, upper=1> theta; // the latent variable we want to infer\n",
    "}\n",
    "\n",
    "\n",
    "model {\n",
    "    theta ~ beta(0.5, 0.5); // beta prior\n",
    "    for (i in 1:N){\n",
    "        target +=\n",
    "            log_mix(0.5, bernoulli_lpmf(y[i] | theta), bernoulli_lpmf(y[i] | 0.5));\n",
    "    }\n",
    "    \n",
    "}\n",
    "\"\"\""
   ]
  },
  {
   "cell_type": "code",
   "execution_count": 36,
   "metadata": {},
   "outputs": [
    {
     "name": "stderr",
     "output_type": "stream",
     "text": [
      "INFO:pystan:COMPILING THE C++ CODE FOR MODEL anon_model_10e97b055c992532f4f5189026ef2af5 NOW.\n"
     ]
    }
   ],
   "source": [
    "g_sm = pystan.StanModel(model_code=generative_model)"
   ]
  },
  {
   "cell_type": "code",
   "execution_count": 5,
   "metadata": {},
   "outputs": [
    {
     "name": "stderr",
     "output_type": "stream",
     "text": [
      "INFO:pystan:COMPILING THE C++ CODE FOR MODEL anon_model_1faba59f95facd8bf45fceea85f1353e NOW.\n"
     ]
    }
   ],
   "source": [
    "m_sm = pystan.StanModel(model_code=mixture_model)"
   ]
  },
  {
   "cell_type": "code",
   "execution_count": 31,
   "metadata": {},
   "outputs": [
    {
     "name": "stdout",
     "output_type": "stream",
     "text": [
      "the calculated mean is 0.06427257276492004 the cheaters ratio is 0.15 size of population is 100 the error is 9%( 0.08572742723507995 )\n",
      "the calculated mean is 0.24854318499939307 the cheaters ratio is 0.3 size of population is 100 the error is 5%( 0.05145681500060692 )\n",
      "the calculated mean is 0.6195350489144328 the cheaters ratio is 0.45 size of population is 100 the error is 17%( 0.16953504891443277 )\n",
      "the calculated mean is 0.5803708215983651 the cheaters ratio is 0.6 size of population is 100 the error is 2%( 0.019629178401634917 )\n",
      "the calculated mean is 0.7034016103391985 the cheaters ratio is 0.75 size of population is 100 the error is 5%( 0.04659838966080154 )\n",
      "the calculated mean is 0.8463246319869586 the cheaters ratio is 0.9 size of population is 100 the error is 5%( 0.0536753680130414 )\n"
     ]
    }
   ],
   "source": [
    "do_benchmark(15, 100 , m_sm)"
   ]
  },
  {
   "cell_type": "code",
   "execution_count": 33,
   "metadata": {},
   "outputs": [
    {
     "name": "stdout",
     "output_type": "stream",
     "text": [
      "the calculated mean is 0.1707341798698987 the cheaters ratio is 0.15 size of population is 1000 the error is 2%( 0.0207341798698987 )\n",
      "the calculated mean is 0.29589039114410626 the cheaters ratio is 0.3 size of population is 1000 the error is 0%( 0.004109608855893732 )\n",
      "the calculated mean is 0.44690984178326026 the cheaters ratio is 0.45 size of population is 1000 the error is 0%( 0.0030901582167397468 )\n",
      "the calculated mean is 0.5721991132623454 the cheaters ratio is 0.6 size of population is 1000 the error is 3%( 0.027800886737654573 )\n",
      "the calculated mean is 0.7494127323459021 the cheaters ratio is 0.75 size of population is 1000 the error is 0%( 0.0005872676540978894 )\n",
      "the calculated mean is 0.9110558985767093 the cheaters ratio is 0.9 size of population is 1000 the error is 1%( 0.0110558985767093 )\n"
     ]
    }
   ],
   "source": [
    "do_benchmark(150 , 1000 , m_sm)"
   ]
  },
  {
   "cell_type": "code",
   "execution_count": 32,
   "metadata": {},
   "outputs": [
    {
     "name": "stdout",
     "output_type": "stream",
     "text": [
      "the calculated mean is 0.1082499711717486 the cheaters ratio is 0.1 size of population is 5000 the error is 1%( 0.008249971171748596 )\n",
      "the calculated mean is 0.20363263219832692 the cheaters ratio is 0.2 size of population is 5000 the error is 0%( 0.003632632198326907 )\n",
      "the calculated mean is 0.3207568066464911 the cheaters ratio is 0.3 size of population is 5000 the error is 2%( 0.0207568066464911 )\n",
      "the calculated mean is 0.40503132654480384 the cheaters ratio is 0.4 size of population is 5000 the error is 1%( 0.005031326544803816 )\n",
      "the calculated mean is 0.48248406047449116 the cheaters ratio is 0.5 size of population is 5000 the error is 2%( 0.01751593952550884 )\n",
      "the calculated mean is 0.6142683778307314 the cheaters ratio is 0.6 size of population is 5000 the error is 1%( 0.014268377830731427 )\n",
      "the calculated mean is 0.7009099151302469 the cheaters ratio is 0.7 size of population is 5000 the error is 0%( 0.0009099151302469632 )\n",
      "the calculated mean is 0.8130424756263488 the cheaters ratio is 0.8 size of population is 5000 the error is 1%( 0.013042475626348748 )\n",
      "the calculated mean is 0.8782183317138356 the cheaters ratio is 0.9 size of population is 5000 the error is 2%( 0.021781668286164457 )\n"
     ]
    },
    {
     "name": "stderr",
     "output_type": "stream",
     "text": [
      "WARNING:pystan:1 of 2000 iterations ended with a divergence (0.05 %).\n",
      "WARNING:pystan:Try running with adapt_delta larger than 0.9 to remove the divergences.\n"
     ]
    },
    {
     "name": "stdout",
     "output_type": "stream",
     "text": [
      "the calculated mean is 0.9894600857309536 the cheaters ratio is 1.0 size of population is 5000 the error is 1%( 0.010539914269046435 )\n"
     ]
    }
   ],
   "source": [
    "do_benchmark(500 , 5000 , m_sm)"
   ]
  },
  {
   "cell_type": "code",
   "execution_count": 34,
   "metadata": {},
   "outputs": [
    {
     "ename": "NameError",
     "evalue": "name 'g_sm' is not defined",
     "output_type": "error",
     "traceback": [
      "\u001b[1;31m---------------------------------------------------------------------------\u001b[0m",
      "\u001b[1;31mNameError\u001b[0m                                 Traceback (most recent call last)",
      "\u001b[1;32m<ipython-input-34-71300495a8a5>\u001b[0m in \u001b[0;36m<module>\u001b[1;34m\u001b[0m\n\u001b[1;32m----> 1\u001b[1;33m \u001b[0mg_fit\u001b[0m \u001b[1;33m=\u001b[0m \u001b[0mg_sm\u001b[0m\u001b[1;33m.\u001b[0m\u001b[0msampling\u001b[0m\u001b[1;33m(\u001b[0m\u001b[0mdata\u001b[0m\u001b[1;33m=\u001b[0m\u001b[0mexp_1\u001b[0m\u001b[1;33m,\u001b[0m \u001b[0miter\u001b[0m\u001b[1;33m=\u001b[0m\u001b[1;36m1000\u001b[0m\u001b[1;33m,\u001b[0m \u001b[0mchains\u001b[0m\u001b[1;33m=\u001b[0m\u001b[1;36m4\u001b[0m\u001b[1;33m,\u001b[0m \u001b[0mcontrol\u001b[0m \u001b[1;33m=\u001b[0m \u001b[1;33m{\u001b[0m\u001b[1;34m\"adapt_delta\"\u001b[0m \u001b[1;33m:\u001b[0m \u001b[1;36m0.9\u001b[0m \u001b[1;33m,\u001b[0m \u001b[1;34m'max_treedepth'\u001b[0m\u001b[1;33m:\u001b[0m \u001b[1;36m11\u001b[0m\u001b[1;33m}\u001b[0m\u001b[1;33m)\u001b[0m\u001b[1;33m\u001b[0m\u001b[1;33m\u001b[0m\u001b[0m\n\u001b[0m",
      "\u001b[1;31mNameError\u001b[0m: name 'g_sm' is not defined"
     ]
    }
   ],
   "source": [
    "g_fit = g_sm.sampling(data=exp_1, iter=1000, chains=4, control = {\"adapt_delta\" : 0.9 , 'max_treedepth': 11})"
   ]
  },
  {
   "cell_type": "code",
   "execution_count": null,
   "metadata": {},
   "outputs": [],
   "source": []
  }
 ],
 "metadata": {
  "kernelspec": {
   "display_name": "Python 3",
   "language": "python",
   "name": "python3"
  },
  "language_info": {
   "codemirror_mode": {
    "name": "ipython",
    "version": 3
   },
   "file_extension": ".py",
   "mimetype": "text/x-python",
   "name": "python",
   "nbconvert_exporter": "python",
   "pygments_lexer": "ipython3",
   "version": "3.7.5"
  }
 },
 "nbformat": 4,
 "nbformat_minor": 2
}
