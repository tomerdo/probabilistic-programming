{
 "cells": [
  {
   "cell_type": "code",
   "execution_count": 2,
   "metadata": {
    "slideshow": {
     "slide_type": "-"
    }
   },
   "outputs": [],
   "source": [
    "import pystan\n",
    "import arviz"
   ]
  },
  {
   "cell_type": "markdown",
   "metadata": {},
   "source": [
    "# this code is implemtetion of idea i found in the web. the source is not found any more"
   ]
  },
  {
   "cell_type": "markdown",
   "metadata": {},
   "source": [
    "the expirment talks about how to make a discrete surevy to infere the number of cheaters, it goes as -> \n",
    "1) toss a coin\n",
    "1.1) if it's head - answer the truth\n",
    "1.2) if it's tail - toss the coin again and anwer the result of the coin\n",
    "\n",
    "in this way if your answer was true, there no way know if it's from the random coin flip , or the actual private information.\n",
    "one that see all the answers can dudce the correct number , because he knows how a coin flip should act."
   ]
  },
  {
   "cell_type": "code",
   "execution_count": null,
   "metadata": {},
   "outputs": [],
   "source": [
    "expirement_model = \"\"\"\"\n",
    "data {\n",
    "    int<lower=0> n; // number of people answered the survey\n",
    "    int<lower=0> y; // number of people answered positive on the survey\n",
    "}\n",
    "\n"
   ]
  }
 ],
 "metadata": {
  "celltoolbar": "Slideshow",
  "kernelspec": {
   "display_name": "Python 3",
   "language": "python",
   "name": "python3"
  },
  "language_info": {
   "codemirror_mode": {
    "name": "ipython",
    "version": 3
   },
   "file_extension": ".py",
   "mimetype": "text/x-python",
   "name": "python",
   "nbconvert_exporter": "python",
   "pygments_lexer": "ipython3",
   "version": "3.7.5"
  }
 },
 "nbformat": 4,
 "nbformat_minor": 2
}
