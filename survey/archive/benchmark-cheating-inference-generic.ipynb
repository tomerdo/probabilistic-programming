{
 "cells": [
  {
   "cell_type": "code",
   "execution_count": 1,
   "metadata": {},
   "outputs": [],
   "source": [
    "import pystan\n",
    "import arviz\n",
    "import random\n",
    "import pandas as pd\n",
    "import math"
   ]
  },
  {
   "cell_type": "code",
   "execution_count": 26,
   "metadata": {},
   "outputs": [],
   "source": [
    "# this method simulates the survey of cheaters\n",
    "def do_exprinment(is_cheater):\n",
    "    coin_result = flip_coin()\n",
    "    if (coin_result):\n",
    "        return is_cheater\n",
    "    else:\n",
    "        return flip_coin()\n",
    "\n",
    "# this function simulates a coin flip\n",
    "def flip_coin():\n",
    "    rand_value = random.random();\n",
    "    return rand_value > 0.5\n",
    "        \n",
    "\n",
    "# this function simulates num_of_people that answer the survey , with num of cheater as <num_of_cheaters>\n",
    "def compute_result_to_list(num_of_cheaters, num_of_people):\n",
    "    results = []\n",
    "    all_population = range(num_of_people)\n",
    "    cheaters_list = random.sample(all_population , k=num_of_cheaters)\n",
    "    for i in all_population:\n",
    "        result = do_exprinment(i in cheaters_list)\n",
    "        if result:\n",
    "            results.append(1)\n",
    "        else:\n",
    "            results.append(0)\n",
    "    return results\n",
    "\n",
    "# returns the mean of theta on the results\n",
    "def theta_mean(fit): \n",
    "    summary_dict = fit.summary()\n",
    "    df = pd.DataFrame(summary_dict['summary'], \n",
    "                  columns=summary_dict['summary_colnames'], \n",
    "                  index=summary_dict['summary_rownames'])\n",
    "\n",
    "    return df['mean']['theta']\n",
    "\n",
    "\"\"\"\" \n",
    "this method sampling from the <stan_model> on varity of number_of_cheaters from <num_of_population>\n",
    "and prints the accuracy of the inference\n",
    "\"\"\"\n",
    "def do_benchmark(step_size, num_of_population, stan_model):\n",
    "    num_of_iterations = math.floor(num_of_population / step_size)\n",
    "    for i in range(num_of_iterations):\n",
    "        y = compute_result_to_list(step_size + i * step_size , num_of_population)\n",
    "        exp = {\n",
    "            'N': len(y),\n",
    "            'y': y\n",
    "        }\n",
    "        m_fit = stan_model.sampling(data=exp, iter=1000, chains=4, control = {\"adapt_delta\" : 0.9})\n",
    "        calculated_mean = theta_mean(m_fit)\n",
    "        cheaters_ratio = ((step_size + i * step_size )/ num_of_population)\n",
    "        error = abs(calculated_mean - cheaters_ratio)\n",
    "        print(\"the calculated mean is \" + str(calculated_mean) + \" the cheaters ratio is \" + str(cheaters_ratio)  \n",
    "              + \" size of population is \" + str(num_of_population) \n",
    "             + \" the error is \" + \"{0:.00%}\".format(error) + \"( \" + str(error) + \" )\" )\n",
    "        \n",
    "    "
   ]
  },
  {
   "cell_type": "code",
   "execution_count": 6,
   "metadata": {
    "collapsed": true
   },
   "outputs": [
    {
     "data": {
      "text/plain": [
       "'[false, false, false, true, true, true, true, false, true, true, true, true, false, true, false, true, false, false, false, true, true, false, false, false, false, true, true, false, false, true, false, false, false, true, false, false, true, true, true, true, true, true, true, false, true, false, true, true, true, true, false, false, true, true, false, false, true, false, true, false, true, false, false, false, true, false, true, false, false, false, true, true, false, true, false, true, true, false, true, true, false, true, true, true, false, true, false, false, false, false, false, true, true, true, true, false, false, false, false, true, true, true, false, true, false, true, false, false, true, false, true, true, false, false, true, false, true, false, false, false, true, false, false, true, false, false, true, true, false, false, false, true, true, false, true, true, true, false, false, true, false, true, false, true, true, false, true, true, false, true, true, false, true, false, false, true, false, true, true, false, false, true, true, false, false, true, true, true, true, false, false, false, false, false, true, false, false, true, false, true, false, true, true, false, false, true, false, true, true, true, true, false, true, false, true, false, true, true, true, false]'"
      ]
     },
     "execution_count": 6,
     "metadata": {},
     "output_type": "execute_result"
    }
   ],
   "source": [
    "import json\n",
    "json.dumps(compute_result_to_list(100, 200))"
   ]
  },
  {
   "cell_type": "code",
   "execution_count": 7,
   "metadata": {},
   "outputs": [],
   "source": [
    "generative_model = \"\"\"\n",
    "\n",
    "data {\n",
    "    int<lower=0> N; // number of people answered the survey\n",
    "    int<lower=0, upper = 1> y[N]; // boolean array of answers\n",
    "}\n",
    "\n",
    "parameters {\n",
    "    real<lower=0, upper=1> theta; // the latent variable we want to infer\n",
    "    real<lower=-1, upper=1> coin_results[N]; // helper coin results buffer\n",
    "}\n",
    "\n",
    "\n",
    "model {\n",
    "    theta ~ beta(0.5, 0.5); // beta prior\n",
    "    for (i in 1:N){\n",
    "        coin_results[i] ~ normal(0 , 1);\n",
    "        if (coin_results[i] >= 0){\n",
    "            y[i] ~ bernoulli(theta);\n",
    "        }\n",
    "        else{\n",
    "            y[i] ~ bernoulli(0.5);\n",
    "        }\n",
    "    }\n",
    "    \n",
    "}\n",
    "\"\"\""
   ]
  },
  {
   "cell_type": "code",
   "execution_count": 3,
   "metadata": {},
   "outputs": [],
   "source": [
    "mixture_model = \"\"\"\n",
    "\n",
    "data {\n",
    "    int<lower=0> N; // number of people answered the survey\n",
    "    int<lower=0, upper = 1> y[N]; // boolean array of answers\n",
    "}\n",
    "\n",
    "parameters {\n",
    "    real<lower=0, upper=1> theta; // the latent variable we want to infer\n",
    "}\n",
    "\n",
    "\n",
    "model {\n",
    "    theta ~ beta(0.5, 0.5); // beta prior\n",
    "    for (i in 1:N){\n",
    "        target +=\n",
    "            log_mix(0.5, bernoulli_lpmf(y[i] | theta), bernoulli_lpmf(y[i] | 0.5));\n",
    "    }\n",
    "    \n",
    "}\n",
    "\"\"\""
   ]
  },
  {
   "cell_type": "code",
   "execution_count": 8,
   "metadata": {},
   "outputs": [
    {
     "name": "stderr",
     "output_type": "stream",
     "text": [
      "INFO:pystan:COMPILING THE C++ CODE FOR MODEL anon_model_10e97b055c992532f4f5189026ef2af5 NOW.\n"
     ]
    }
   ],
   "source": [
    "g_sm = pystan.StanModel(model_code=generative_model)"
   ]
  },
  {
   "cell_type": "code",
   "execution_count": 9,
   "metadata": {},
   "outputs": [
    {
     "name": "stderr",
     "output_type": "stream",
     "text": [
      "INFO:pystan:COMPILING THE C++ CODE FOR MODEL anon_model_1faba59f95facd8bf45fceea85f1353e NOW.\n"
     ]
    }
   ],
   "source": [
    "m_sm = pystan.StanModel(model_code=mixture_model)"
   ]
  },
  {
   "cell_type": "code",
   "execution_count": 27,
   "metadata": {},
   "outputs": [
    {
     "name": "stdout",
     "output_type": "stream",
     "text": [
      "the calculated mean is 0.07633350575821062 the cheaters ratio is 0.15 size of population is 100 the error is 7%( 0.07366649424178938 )\n",
      "the calculated mean is 0.29628596365886645 the cheaters ratio is 0.3 size of population is 100 the error is 0%( 0.003714036341133542 )\n",
      "the calculated mean is 0.3942546380760888 the cheaters ratio is 0.45 size of population is 100 the error is 6%( 0.05574536192391122 )\n",
      "the calculated mean is 0.5594629252678776 the cheaters ratio is 0.6 size of population is 100 the error is 4%( 0.040537074732122425 )\n",
      "the calculated mean is 0.7304276175133442 the cheaters ratio is 0.75 size of population is 100 the error is 2%( 0.019572382486655826 )\n",
      "the calculated mean is 0.7129443374090216 the cheaters ratio is 0.9 size of population is 100 the error is 19%( 0.1870556625909784 )\n"
     ]
    }
   ],
   "source": [
    "do_benchmark(15, 100 , m_sm)"
   ]
  },
  {
   "cell_type": "code",
   "execution_count": 28,
   "metadata": {},
   "outputs": [
    {
     "name": "stdout",
     "output_type": "stream",
     "text": [
      "the calculated mean is 0.2438142723754965 the cheaters ratio is 0.15 size of population is 1000 the error is 9%( 0.0938142723754965 )\n",
      "the calculated mean is 0.3107288771598309 the cheaters ratio is 0.3 size of population is 1000 the error is 1%( 0.010728877159830896 )\n",
      "the calculated mean is 0.4327352912889287 the cheaters ratio is 0.45 size of population is 1000 the error is 2%( 0.01726470871107133 )\n",
      "the calculated mean is 0.5734379150422865 the cheaters ratio is 0.6 size of population is 1000 the error is 3%( 0.026562084957713505 )\n",
      "the calculated mean is 0.713698883667804 the cheaters ratio is 0.75 size of population is 1000 the error is 4%( 0.036301116332196015 )\n",
      "the calculated mean is 0.931490991480137 the cheaters ratio is 0.9 size of population is 1000 the error is 3%( 0.03149099148013701 )\n"
     ]
    }
   ],
   "source": [
    "do_benchmark(150 , 1000 , m_sm)"
   ]
  },
  {
   "cell_type": "code",
   "execution_count": 32,
   "metadata": {},
   "outputs": [
    {
     "name": "stdout",
     "output_type": "stream",
     "text": [
      "the calculated mean is 0.1082499711717486 the cheaters ratio is 0.1 size of population is 5000 the error is 1%( 0.008249971171748596 )\n",
      "the calculated mean is 0.20363263219832692 the cheaters ratio is 0.2 size of population is 5000 the error is 0%( 0.003632632198326907 )\n",
      "the calculated mean is 0.3207568066464911 the cheaters ratio is 0.3 size of population is 5000 the error is 2%( 0.0207568066464911 )\n",
      "the calculated mean is 0.40503132654480384 the cheaters ratio is 0.4 size of population is 5000 the error is 1%( 0.005031326544803816 )\n",
      "the calculated mean is 0.48248406047449116 the cheaters ratio is 0.5 size of population is 5000 the error is 2%( 0.01751593952550884 )\n",
      "the calculated mean is 0.6142683778307314 the cheaters ratio is 0.6 size of population is 5000 the error is 1%( 0.014268377830731427 )\n",
      "the calculated mean is 0.7009099151302469 the cheaters ratio is 0.7 size of population is 5000 the error is 0%( 0.0009099151302469632 )\n",
      "the calculated mean is 0.8130424756263488 the cheaters ratio is 0.8 size of population is 5000 the error is 1%( 0.013042475626348748 )\n",
      "the calculated mean is 0.8782183317138356 the cheaters ratio is 0.9 size of population is 5000 the error is 2%( 0.021781668286164457 )\n"
     ]
    },
    {
     "name": "stderr",
     "output_type": "stream",
     "text": [
      "WARNING:pystan:1 of 2000 iterations ended with a divergence (0.05 %).\n",
      "WARNING:pystan:Try running with adapt_delta larger than 0.9 to remove the divergences.\n"
     ]
    },
    {
     "name": "stdout",
     "output_type": "stream",
     "text": [
      "the calculated mean is 0.9894600857309536 the cheaters ratio is 1.0 size of population is 5000 the error is 1%( 0.010539914269046435 )\n"
     ]
    }
   ],
   "source": [
    "do_benchmark(500 , 5000 , m_sm)"
   ]
  },
  {
   "cell_type": "code",
   "execution_count": null,
   "metadata": {},
   "outputs": [],
   "source": [
    "do_benchmark(500 , 5000 , g_sm)"
   ]
  }
 ],
 "metadata": {
  "kernelspec": {
   "display_name": "Python 3",
   "language": "python",
   "name": "python3"
  },
  "language_info": {
   "codemirror_mode": {
    "name": "ipython",
    "version": 3
   },
   "file_extension": ".py",
   "mimetype": "text/x-python",
   "name": "python",
   "nbconvert_exporter": "python",
   "pygments_lexer": "ipython3",
   "version": "3.7.5"
  }
 },
 "nbformat": 4,
 "nbformat_minor": 2
}
